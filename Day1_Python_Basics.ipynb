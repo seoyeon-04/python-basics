{
  "nbformat": 4,
  "nbformat_minor": 0,
  "metadata": {
    "colab": {
      "provenance": []
    },
    "kernelspec": {
      "name": "python3",
      "display_name": "Python 3"
    },
    "language_info": {
      "name": "python"
    }
  },
  "cells": [
    {
      "cell_type": "code",
      "execution_count": null,
      "metadata": {
        "colab": {
          "base_uri": "https://localhost:8080/"
        },
        "id": "2v1CZHhIHO58",
        "outputId": "2a8a8562-cb77-4bb7-8cda-87a2feade5d0"
      },
      "outputs": [
        {
          "output_type": "stream",
          "name": "stdout",
          "text": [
            "안녕하세요 서연입니다.\n"
          ]
        }
      ],
      "source": [
        "print('안녕하세요 서연입니다.')"
      ]
    },
    {
      "cell_type": "code",
      "source": [
        "age=int(input('나이를 입력하세요.'))\n",
        "print(f'당신의 나이는 {age}살이군요!')"
      ],
      "metadata": {
        "colab": {
          "base_uri": "https://localhost:8080/"
        },
        "id": "-O0jwAJhK4X-",
        "outputId": "6a079ee2-e4e3-463e-a882-92d7f01fcdef"
      },
      "execution_count": null,
      "outputs": [
        {
          "output_type": "stream",
          "name": "stdout",
          "text": [
            "나이를 입력하세요.22\n",
            "당신의 나이는 22살이군요!\n"
          ]
        }
      ]
    },
    {
      "cell_type": "code",
      "source": [
        "num1, num2=map(int,input('숫자 두개를 입력하세요.(띄어쓰기로 구분) : ').split())\n",
        "sum=num1+num2\n",
        "print(f'결과는 {sum}입니다')"
      ],
      "metadata": {
        "colab": {
          "base_uri": "https://localhost:8080/"
        },
        "id": "zS3LqEinLTA-",
        "outputId": "96ee75f2-8ab2-46a3-cf37-b9c7238a2b2b"
      },
      "execution_count": 2,
      "outputs": [
        {
          "output_type": "stream",
          "name": "stdout",
          "text": [
            "숫자 두개를 입력하세요.(띄어쓰기로 구분) : 12 75\n",
            "결과는 87입니다\n"
          ]
        }
      ]
    },
    {
      "cell_type": "code",
      "source": [
        "num=int(input('숫자를 입력하세요. '))\n",
        "if num%2==0:\n",
        "  print('짝수입니다.')\n",
        "else:\n",
        "  print('홀수입니다.')"
      ],
      "metadata": {
        "colab": {
          "base_uri": "https://localhost:8080/"
        },
        "id": "BC5-qyeCMF3X",
        "outputId": "b94f7c47-8322-4e93-a3b6-0da8db023ce9"
      },
      "execution_count": null,
      "outputs": [
        {
          "output_type": "stream",
          "name": "stdout",
          "text": [
            "숫자를 입력하세요. 6\n",
            "짝수입니다.\n"
          ]
        }
      ]
    },
    {
      "cell_type": "code",
      "source": [
        "age=int(input('나이를 입력하세요. '))\n",
        "if age<=12:\n",
        "  print('어린이입니다')\n",
        "elif age<=18:\n",
        "  print('청소년입니다')\n",
        "else:\n",
        "  print('성인입니다')"
      ],
      "metadata": {
        "colab": {
          "base_uri": "https://localhost:8080/"
        },
        "id": "nmjltRFAM145",
        "outputId": "082e5a82-8486-4427-cf8a-fad2a2eb1af3"
      },
      "execution_count": null,
      "outputs": [
        {
          "output_type": "stream",
          "name": "stdout",
          "text": [
            "나이를 입력하세요. 19\n",
            "성인입니다\n"
          ]
        }
      ]
    }
  ]
}