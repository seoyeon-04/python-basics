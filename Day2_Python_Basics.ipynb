{
  "nbformat": 4,
  "nbformat_minor": 0,
  "metadata": {
    "colab": {
      "provenance": []
    },
    "kernelspec": {
      "name": "python3",
      "display_name": "Python 3"
    },
    "language_info": {
      "name": "python"
    }
  },
  "cells": [
    {
      "cell_type": "code",
      "execution_count": null,
      "metadata": {
        "colab": {
          "base_uri": "https://localhost:8080/"
        },
        "id": "I8bLIZzN4OCz",
        "outputId": "b2ec1c88-c43f-4a14-ea42-84e7fcbe8e5e"
      },
      "outputs": [
        {
          "output_type": "stream",
          "name": "stdout",
          "text": [
            "Enter your name: Seoyeon\n",
            "Hello Seoyeon\n"
          ]
        }
      ],
      "source": [
        "name=input('Enter your name: ')\n",
        "print('Hello', name)"
      ]
    },
    {
      "cell_type": "code",
      "source": [
        "H=float(input('Enter Hours: '))\n",
        "R=float(input('Enter Rate: '))\n",
        "P=H*R\n",
        "print('Pay:',P)"
      ],
      "metadata": {
        "colab": {
          "base_uri": "https://localhost:8080/"
        },
        "id": "xWPTYyOC6vN8",
        "outputId": "e48644df-7ab3-496c-b554-dd2eac0828a0"
      },
      "execution_count": null,
      "outputs": [
        {
          "output_type": "stream",
          "name": "stdout",
          "text": [
            "Enter Hours: 35\n",
            "Enter Rate: 2.75\n",
            "Pay: 96.25\n"
          ]
        }
      ]
    },
    {
      "cell_type": "code",
      "source": [
        "tempC=float(input('Enter Celsius: '))\n",
        "tempF=tempC*1.8+32\n",
        "print(tempF,'℃')"
      ],
      "metadata": {
        "colab": {
          "base_uri": "https://localhost:8080/"
        },
        "id": "doNdqMVG7VbS",
        "outputId": "c98b6ccf-7b9f-4646-a6d2-2b9be7a53d9d"
      },
      "execution_count": null,
      "outputs": [
        {
          "output_type": "stream",
          "name": "stdout",
          "text": [
            "Enter Celsius: 32\n",
            "89.6 ℃\n"
          ]
        }
      ]
    },
    {
      "cell_type": "code",
      "source": [
        "H=float(input('Enter Hours: '))\n",
        "R=float(input('Enter Rate: '))\n",
        "if H>=40:\n",
        "  P=40*R+(H-40)*R*1.5\n",
        "else:\n",
        "  P=H*R\n",
        "print('Pay:',P)"
      ],
      "metadata": {
        "colab": {
          "base_uri": "https://localhost:8080/"
        },
        "id": "NvwTCIRw1ZD6",
        "outputId": "53ba229f-b350-4578-c0cc-f8e21acf8d48"
      },
      "execution_count": null,
      "outputs": [
        {
          "output_type": "stream",
          "name": "stdout",
          "text": [
            "Enter Hours: 45\n",
            "Enter Rate: 10\n",
            "Pay: 475.0\n"
          ]
        }
      ]
    },
    {
      "cell_type": "code",
      "source": [
        "try:\n",
        "  H=float(input('Enter Hours: '))\n",
        "  R=float(input('Enter Rate: '))\n",
        "except:\n",
        "  print('Error, please enter numeric input')\n",
        "  quit()\n",
        "if H>=40:\n",
        "  P=40*R+(H-40)*R*1.5\n",
        "else:\n",
        "  P=H*R\n",
        "print('Pay:',P)"
      ],
      "metadata": {
        "colab": {
          "base_uri": "https://localhost:8080/"
        },
        "id": "SHmM4pUQ3FB9",
        "outputId": "c62f4e16-e958-4444-a82c-b28ad522b5de"
      },
      "execution_count": null,
      "outputs": [
        {
          "output_type": "stream",
          "name": "stdout",
          "text": [
            "Enter Hours: 40\n",
            "Enter Rate: 2.5\n",
            "Pay: 100.0\n"
          ]
        }
      ]
    },
    {
      "cell_type": "code",
      "source": [
        "score=input('Enter score: ')\n",
        "try:\n",
        "  score=float(score)\n",
        "except:\n",
        "  print('Bad score')\n",
        "  quit()\n",
        "if score>1.0:\n",
        "  grade='Bad score'\n",
        "elif score>=0.9:\n",
        "  grade='A'\n",
        "elif score>=0.8:\n",
        "  grade='B'\n",
        "elif score>=0.7:\n",
        "  grade='C'\n",
        "elif score>=0.6:\n",
        "  grade='D'\n",
        "else:\n",
        "  grade='F'\n",
        "print(grade)"
      ],
      "metadata": {
        "id": "u_Dkjnwo9Xlj",
        "colab": {
          "base_uri": "https://localhost:8080/"
        },
        "outputId": "1bd164a5-041a-4c4c-b715-6cd62b8bdf62"
      },
      "execution_count": null,
      "outputs": [
        {
          "output_type": "stream",
          "name": "stdout",
          "text": [
            "Enter score: 0.5\n",
            "F\n"
          ]
        }
      ]
    }
  ]
}